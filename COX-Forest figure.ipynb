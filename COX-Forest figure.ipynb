{
 "cells": [
  {
   "cell_type": "code",
   "execution_count": null,
   "id": "cbb733d8",
   "metadata": {},
   "outputs": [],
   "source": [
    "library(survminer)\n",
    "library(survival)\n",
    "library(survminer)\n",
    "library(forestplot)\n",
    "library(readxl)\n",
    "library(dplyr)\n",
    "library(gridExtra)\n",
    "library(scales)\n",
    "library(pROC) \n",
    "library(readxl) \n",
    "library(RColorBrewer)\n",
    "library(forestploter)\n",
    "library(extrafont)\n",
    "loadfonts(device = \"win\")  "
   ]
  },
  {
   "cell_type": "code",
   "execution_count": null,
   "id": "a7e5e08e",
   "metadata": {},
   "outputs": [],
   "source": [
    "result2 = read_excel(\"E:/0_pro/7.多中心ITH/1.数据分析/生存分析/本院生存分析/统计结果/本院+外部多因素Cox_RFS.xlsx\",sheet = 'Sheet 1')\n",
    "result2$Characteristics <- ifelse(is.na(result2$`HR (95% CI)`), \n",
    "                                  result2$Characteristics, \n",
    "                                  paste0(\"    \", result2$Characteristics))\n",
    "# 处理Characteristics列，去除“Hypertension”前面的空格\n",
    "result2 <- result2 %>%\n",
    "  mutate(Characteristics = ifelse(Characteristics == \"    Age\", trimws(Characteristics), Characteristics))\n",
    "# result2 <- result2 %>%\n",
    "#   mutate(Characteristics = ifelse(Characteristics == \"    Previous cardiovascular disease\", trimws(Characteristics), Characteristics))\n",
    "\n",
    "result2"
   ]
  },
  {
   "cell_type": "code",
   "execution_count": null,
   "id": "da80674e",
   "metadata": {},
   "outputs": [],
   "source": [
    "# 把NA替换为空字符串\n",
    "# result2$`Regression Coefficient` <- ifelse(is.na(result2$`Regression Coefficient`), \"\", result2$`Regression Coefficient`)\n",
    "# result2$`Points assigned` <- ifelse(is.na(result2$`Points assigned`), \"\", result2$`Points assigned`)\n",
    "result2$`HR (95% CI)` <- ifelse(is.na(result2$`HR (95% CI)`), \"\", result2$`HR (95% CI)`)\n",
    "# result2$`C` <- ifelse(is.na(result2$`C`), \"\", result2$`C`)\n",
    "# result2$`P` <- ifelse(is.na(result2$`P`), \"\", result2$`P`)\n",
    "result2$`HR` <- ifelse(is.na(result2$`HR`), \"\", result2$`HR`)\n",
    "result2$`LowerCI` <- ifelse(is.na(result2$`LowerCI`), \"\", result2$`LowerCI`)\n",
    "result2$`UpperCI` <- ifelse(is.na(result2$`UpperCI`), \"\", result2$`UpperCI`)\n",
    "result2$`P value` <- ifelse(is.na(result2$`P value`), \"\", result2$`P value`)"
   ]
  },
  {
   "cell_type": "code",
   "execution_count": null,
   "id": "861b3315",
   "metadata": {},
   "outputs": [],
   "source": [
    "# 确保 UpperCI 和 HR 列为数值类型\n",
    "result2$UpperCI <- as.numeric(result2$UpperCI)\n",
    "result2$HR <- as.numeric(result2$HR)\n",
    "# 计算标准误\n",
    "result2$se <- (log(result2$UpperCI) - log(result2$HR))/1.96\n",
    "# result2\n",
    "\n",
    "# 为森林图添加空白列，为了产生一个绘图区间，用于显示CI\n",
    "result2$` ` <- paste(rep(\" \", 12), collapse = \" \")\n",
    "# result2\n",
    "\n",
    "result2$LowerCI <- as.numeric(result2$LowerCI)\n",
    "result2"
   ]
  },
  {
   "cell_type": "code",
   "execution_count": null,
   "id": "5f1643cc",
   "metadata": {},
   "outputs": [],
   "source": [
    "# 定义一个简单的主题，大家可以随意发挥自己的审美！\n",
    "tm <- forest_theme(base_size = 10,           # 设置基础字体大小\n",
    "                   ci_lwd = 1,          # 可信区间的线宽\n",
    "                   refline_col = \"red4\",     # 设置参考线颜色为红色\n",
    "                   arrow_type = \"closed\",    # 设置箭头类型为闭合箭头\n",
    "                   ci_col = \"blue4\",    # 可信区间的边框颜色\n",
    "#                    ci_fill = \"blue4\",      # 可信区间的填充颜色\n",
    "                   footnote_col = \"blue4\")   # 设置脚注文字颜色为蓝色\n",
    "\n",
    "# 绘制森林图\n",
    "# p <- forest(result2[,c(1,2,10, 7,3)],   # 选择要在森林图中使用的数据列，这里包括变量名列、患者数量列、绘图要用的空白列和HR（95%CI）列\n",
    "p <- forest(result2[,c(1,8, 2,3)],   # 选择要在森林图中使用的数据列，这里包括变量名列、患者数量列、绘图要用的空白列和HR（95%CI）列            \n",
    "            est = result2$HR,          # 效应值，也就是HR列\n",
    "            lower = result2$LowerCI,  # 置信区间下限\n",
    "            upper = result2$UpperCI,  # 置信区间上限\n",
    "#             sizes = result2$se,        # 黑框框的大小,自适应大小\n",
    "            sizes = 0.3,        # 黑框框的大小            \n",
    "            ci_column = 2,             # 在第3列（可信区间列）绘制森林图\n",
    "            ref_line = 1,              # 添加参考线\n",
    "            ci_lwd = 1,          # 可信区间的线宽\n",
    "            \n",
    "#             arrow_lab = c(\"Low risk\", \"High Risk\"),  # 箭头标签，用来表示效应方向，如何设置取决于你的样本情况\n",
    "            xlim = c(0, 9),          # 设置x轴范围\n",
    "            ticks_at = c(0, 1, 3,5,7,9),  # 在指定位置添加刻度\n",
    "            theme = tm,                # 添加自定义主题\n",
    "            footnote = \" \")  # 添加脚注信息\n",
    "# 使用ggsave保存图像为PNG格式\n",
    "# pp <- edit_plot(p, row = 10, gp = gpar(col = \"red4\", fontface = \"italic\")) #斜体\n",
    "pp <- edit_plot(p, row = 10, gp = gpar(col = \"red4\"))\n",
    "pp <- edit_plot(pp, row = 3, gp = gpar(col = \"red4\"))\n",
    "pp\n",
    "ggsave(filename = \"E:/0_pro/7.多中心ITH/1.数据分析/生存分析/本院生存分析/统计结果/本院+外部_RFS_Cox森林图.png\", \n",
    "       plot = pp, \n",
    "       device = \"png\", \n",
    "       width = 6, \n",
    "       height = 3, \n",
    "       units = \"in\", \n",
    "       dpi = 700, \n",
    "#        family = \"Times New Roman\",\n",
    "       limitsize = FALSE,\n",
    "       bg = \"white\")\n",
    "pp"
   ]
  },
  {
   "cell_type": "code",
   "execution_count": null,
   "id": "a4ac4167",
   "metadata": {},
   "outputs": [],
   "source": []
  },
  {
   "cell_type": "code",
   "execution_count": null,
   "id": "d9d5d80e",
   "metadata": {},
   "outputs": [],
   "source": []
  },
  {
   "cell_type": "code",
   "execution_count": null,
   "id": "75d56c09",
   "metadata": {},
   "outputs": [],
   "source": []
  },
  {
   "cell_type": "code",
   "execution_count": null,
   "id": "3366db06",
   "metadata": {},
   "outputs": [],
   "source": []
  }
 ],
 "metadata": {
  "kernelspec": {
   "display_name": "R 4.3.1",
   "language": "R",
   "name": "ir431"
  },
  "language_info": {
   "codemirror_mode": "r",
   "file_extension": ".r",
   "mimetype": "text/x-r-source",
   "name": "R",
   "pygments_lexer": "r",
   "version": "4.3.1"
  }
 },
 "nbformat": 4,
 "nbformat_minor": 5
}
