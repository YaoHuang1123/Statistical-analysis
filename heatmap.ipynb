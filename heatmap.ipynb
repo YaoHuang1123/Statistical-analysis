{
 "cells": [
  {
   "cell_type": "code",
   "execution_count": null,
   "id": "70ed77f7",
   "metadata": {},
   "outputs": [],
   "source": [
    "library(pheatmap)\n",
    "library(rmda)"
   ]
  },
  {
   "cell_type": "code",
   "execution_count": null,
   "id": "15e013f9",
   "metadata": {},
   "outputs": [],
   "source": [
    "\n",
    "data_train = read.csv('E:/0_pro/all.csv')\n",
    "\n",
    "PatientID = outcome = c(data_train$PatientID)\n",
    "outcome = c(data_train$PCR)\n",
    "molecular_type = c(data_train$Type)\n",
    "HER2 = c(data_train$HER2)\n",
    "HR = c(data_train$HR)\n",
    "ITH_score = c(data_train$ITHscore)\n",
    "\n",
    "\n",
    "Binary_score = ifelse(data_train$score>66.45,1,0)\n",
    "\n",
    "\n",
    "\n",
    "data_original = data.frame(PatientID = PatientID, pCR = outcome,Binary_score = Binary_score,HER2 = HER2,HR = HR,ITH_score = ITH_score)\n",
    "\n",
    "\n",
    "names(data_original)[names(data_original) == \"HR\"] <- \"HR status\"\n",
    "names(data_original)[names(data_original) == \"Binary_score\"] <- \"Nomogram score\"\n",
    "names(data_original)[names(data_original) == \"HER2\"] <- \"HER2 status\"\n",
    "\n",
    "names(data_original)[names(data_original) == \"ITH_score\"] <- \"ITH score\"\n",
    "names(data_original)[names(data_original) == \"pCR\"] <- \"Treatment response\"\n",
    "names(data_original)[names(data_original) == \"Molecular_type\"] <- \"Molecular subtype\"\n",
    "names(data_original)[names(data_original) == \"pCR_Probability\"] <- \"Probability of pCR\"\n",
    "\n",
    "data = data_original[order(data_original$`Treatment response`),]\n",
    "row.names(data) = data[,1]\n",
    "data"
   ]
  },
  {
   "cell_type": "code",
   "execution_count": null,
   "id": "ec15b961",
   "metadata": {},
   "outputs": [],
   "source": []
  },
  {
   "cell_type": "code",
   "execution_count": null,
   "id": "a583f403",
   "metadata": {},
   "outputs": [],
   "source": []
  },
  {
   "cell_type": "code",
   "execution_count": null,
   "id": "4f3e274c",
   "metadata": {},
   "outputs": [],
   "source": []
  },
  {
   "cell_type": "code",
   "execution_count": null,
   "id": "1afedcf5",
   "metadata": {},
   "outputs": [],
   "source": []
  },
  {
   "cell_type": "code",
   "execution_count": null,
   "id": "a2c57e26",
   "metadata": {},
   "outputs": [],
   "source": []
  },
  {
   "cell_type": "code",
   "execution_count": null,
   "id": "5df37820",
   "metadata": {},
   "outputs": [],
   "source": []
  },
  {
   "cell_type": "code",
   "execution_count": null,
   "id": "fd934ce2",
   "metadata": {},
   "outputs": [],
   "source": []
  }
 ],
 "metadata": {
  "kernelspec": {
   "display_name": "R 4.3.1",
   "language": "R",
   "name": "ir431"
  },
  "language_info": {
   "codemirror_mode": "r",
   "file_extension": ".r",
   "mimetype": "text/x-r-source",
   "name": "R",
   "pygments_lexer": "r",
   "version": "4.3.1"
  }
 },
 "nbformat": 4,
 "nbformat_minor": 5
}
