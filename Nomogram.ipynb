{
 "cells": [
  {
   "cell_type": "code",
   "execution_count": null,
   "id": "237cfc5d",
   "metadata": {},
   "outputs": [],
   "source": [
    "library(rms)\n",
    "library(readxl)\n",
    "library(Hmisc)\n",
    "library(regplot)\n",
    "library(DynNom)"
   ]
  },
  {
   "cell_type": "code",
   "execution_count": null,
   "id": "1cffec11",
   "metadata": {},
   "outputs": [],
   "source": [
    "data_in <- read_excel(\"E:/0_pro/train.xlsx\")\n",
    "ddist <- datadist(data_in)\n",
    "options(datadist='ddist')\n",
    "      \n",
    "data_in$HR <- factor(data_in$HR, levels=c(0,1), labels=c(\"Negative\",\"Positive\"))\n",
    "data_in$HER2 <- factor(data_in$HER2, levels=c(0,1), labels=c(\"Negative\",\"Positive\"))\n",
    "\n",
    "label(data_in$HR) <- \"HR status\"\n",
    "label(data_in$HER2) <- \"HER2 status\"\n",
    "label(data_in$ITHscore) <- \"ITH score\"\n",
    "# plot(nomogram)\n",
    "fit <- lrm(PCR ~ HR + HER2 + ITHscore, \n",
    "           data=data_in) \n",
    "ddist <- datadist(data_in); \n",
    "options(datadist='ddist')\n",
    "par(family=\"Times\")     \n",
    "nomogram <- nomogram(fit, fun = function(x)1/(1+exp(-x)), \n",
    "                     fun.at = c(0.05, seq(0.1, 0.9, by = 0.2),0.95),\n",
    "#                      fun.at = c(0.1, seq(0.1, 0.9, by = 0.1),0.99),                     \n",
    "#                      funlabel = \"Treatment response\") \n",
    "                     funlabel = \"pCR Probability\",lp = F)          \n",
    "# nomogram <- nomogram(fit, fun = function(x)1/(1+exp(-x)),funlabel=\"pCR probability\",conf.int=F,lp=F,fun.at=c(.001,.01,.05,seq(.1,.9,by=.1),.95,.99,.99)) \n",
    "# png(filename=\"E:/0_pro/Fig/nomogram.png\", width=8, height=7, units=\"in\", res=1000)\n",
    "                  \n",
    "plot(nomogram)\n",
    "dev.off()\n",
    "# rect(0.191,0.095,0.65,0.11,col = \"green\") \n",
    "# rect(0.65,0.095,0.705,0.11,col = \"yellow\") \n",
    "# rect(0.705,0.095,1.003,0.11,col = \"red\") \n",
    "# text(0.4,0.125,\"Low\")\n",
    "# text(0.68,0.125,\"Medium\")\n",
    "# text(0.85,0.125,\"High\")          \n"
   ]
  },
  {
   "cell_type": "code",
   "execution_count": null,
   "id": "c1031b87",
   "metadata": {},
   "outputs": [],
   "source": []
  },
  {
   "cell_type": "code",
   "execution_count": null,
   "id": "e4e3ec08",
   "metadata": {},
   "outputs": [],
   "source": []
  },
  {
   "cell_type": "code",
   "execution_count": null,
   "id": "af9dc354",
   "metadata": {},
   "outputs": [],
   "source": []
  },
  {
   "cell_type": "code",
   "execution_count": null,
   "id": "8e20c546",
   "metadata": {},
   "outputs": [],
   "source": []
  },
  {
   "cell_type": "code",
   "execution_count": null,
   "id": "cabfcb5b",
   "metadata": {},
   "outputs": [],
   "source": []
  },
  {
   "cell_type": "code",
   "execution_count": null,
   "id": "f33861bf",
   "metadata": {},
   "outputs": [],
   "source": []
  }
 ],
 "metadata": {
  "kernelspec": {
   "display_name": "R 4.3.1",
   "language": "R",
   "name": "ir431"
  },
  "language_info": {
   "codemirror_mode": "r",
   "file_extension": ".r",
   "mimetype": "text/x-r-source",
   "name": "R",
   "pygments_lexer": "r",
   "version": "4.3.1"
  }
 },
 "nbformat": 4,
 "nbformat_minor": 5
}
