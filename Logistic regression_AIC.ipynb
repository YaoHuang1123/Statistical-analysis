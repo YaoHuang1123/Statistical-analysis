{
 "cells": [
  {
   "cell_type": "code",
   "execution_count": 2,
   "id": "e8fd50e7",
   "metadata": {},
   "outputs": [],
   "source": [
    "library(pROC)\n",
    "library(binom)\n",
    "library(ggplot2)\n",
    "library(glmnet)\n",
    "library(MASS)\n",
    "library(caret)\n",
    "library(car)\n",
    "library(ResourceSelection)\n",
    "# library(SDMTools)\n",
    "library(cutpointr)\n",
    "library(corrplot)\n",
    "library(readxl)"
   ]
  },
  {
   "cell_type": "code",
   "execution_count": 3,
   "id": "d874c108",
   "metadata": {},
   "outputs": [
    {
     "name": "stdout",
     "output_type": "stream",
     "text": [
      "tibble [505 × 33] (S3: tbl_df/tbl/data.frame)\n",
      " $ PatientID      : num [1:505] 1e+09 1e+09 1e+09 1e+09 1e+09 ...\n",
      " $ Age0           : num [1:505] 57 52 57 46 55 52 54 48 50 70 ...\n",
      " $ Age            : num [1:505] 37 52 57 46 55 52 39 48 50 40 ...\n",
      " $ Menopausal0    : num [1:505] 1 1 1 0 1 1 1 1 0 1 ...\n",
      " $ Menopausal     : num [1:505] 0 1 0 0 0 0 0 0 0 1 ...\n",
      " $ ER             : num [1:505] 1 1 1 1 0 0 0 1 1 0 ...\n",
      " $ PR             : num [1:505] 1 0 0 1 0 0 0 1 0 0 ...\n",
      " $ HR             : num [1:505] 1 1 1 1 0 0 0 1 1 0 ...\n",
      " $ HER2           : num [1:505] 0 1 1 0 0 0 1 0 0 0 ...\n",
      " $ Ki670          : num [1:505] 1 1 1 1 1 1 1 1 1 1 ...\n",
      " $ Ki67单因素     : num [1:505] 1 0 0 1 1 1 0 1 1 1 ...\n",
      " $ Ki67多因素     : num [1:505] 1 1 1 1 1 1 1 1 0 0 ...\n",
      " $ PCR2           : num [1:505] 0 1 1 0 0 0 1 0 0 0 ...\n",
      " $ Type           : num [1:505] 2 1 1 2 4 4 3 2 2 4 ...\n",
      " $ Subtype        : num [1:505] 2 2 2 2 3 3 4 2 2 3 ...\n",
      " $ Subtype_1      : num [1:505] 0 0 0 0 0 0 0 0 0 0 ...\n",
      " $ Subtype_2      : num [1:505] 1 1 1 1 0 0 0 1 1 0 ...\n",
      " $ Subtype_3      : num [1:505] 0 0 0 0 1 1 0 0 0 1 ...\n",
      " $ Subtype_4      : num [1:505] 0 0 0 0 0 0 1 0 0 0 ...\n",
      " $ T0             : num [1:505] 2 2 4 4 2 3 2 1 2 1 ...\n",
      " $ T              : num [1:505] 2 2 4 4 2 3 2 1 2 1 ...\n",
      " $ T2             : num [1:505] 0 1 1 0 0 1 1 0 0 1 ...\n",
      " $ N              : num [1:505] 2 3 2 1 2 2 1 2 1 2 ...\n",
      " $ N2             : num [1:505] 1 1 1 0 1 1 0 1 0 1 ...\n",
      " $ LN0            : num [1:505] 1 1 1 1 0 1 1 1 1 1 ...\n",
      " $ LN1            : num [1:505] 1 0 1 1 1 1 1 1 1 1 ...\n",
      " $ PCR            : num [1:505] 0 1 1 0 0 0 1 0 0 0 ...\n",
      " $ HER2三分类     : num [1:505] 1 2 2 1 0 0 2 1 1 0 ...\n",
      " $ HER2_zero      : num [1:505] 0 0 0 0 1 1 0 0 0 1 ...\n",
      " $ HER2_low       : num [1:505] 1 0 0 1 0 0 0 1 1 0 ...\n",
      " $ HER2_pos       : num [1:505] 0 1 1 0 0 0 1 0 0 0 ...\n",
      " $ ITHscore       : num [1:505] 0.84 0.478 0.378 0.555 0.362 ...\n",
      " $ OptimalClusters: num [1:505] 7 6 7 7 3 7 5 1 5 7 ...\n"
     ]
    }
   ],
   "source": [
    "\n",
    "data_train <- read_excel(\"E:/0_pro/train.xlsx\")\n",
    "str(data_train)\n"
   ]
  },
  {
   "cell_type": "code",
   "execution_count": 4,
   "id": "6b319381",
   "metadata": {},
   "outputs": [
    {
     "name": "stdout",
     "output_type": "stream",
     "text": [
      "Start:  AIC=406.85\n",
      "PCR ~ HR + HER2 + ITHscore\n",
      "\n",
      "           Df Deviance    AIC\n",
      "<none>          398.85 406.85\n",
      "- HR        1   436.40 442.40\n",
      "- HER2      1   444.61 450.61\n",
      "- ITHscore  1   523.56 529.56\n"
     ]
    },
    {
     "data": {
      "text/plain": [
       "\n",
       "Call:\n",
       "glm(formula = full, family = binomial(link = \"logit\"), data = tmp_data)\n",
       "\n",
       "Coefficients:\n",
       "            Estimate Std. Error z value Pr(>|z|)    \n",
       "(Intercept)   2.9862     0.4563   6.545 5.95e-11 ***\n",
       "HR           -1.5554     0.2685  -5.792 6.94e-09 ***\n",
       "HER2          1.6984     0.2620   6.483 9.00e-11 ***\n",
       "ITHscore     -6.0766     0.6341  -9.583  < 2e-16 ***\n",
       "---\n",
       "Signif. codes:  0 '***' 0.001 '**' 0.01 '*' 0.05 '.' 0.1 ' ' 1\n",
       "\n",
       "(Dispersion parameter for binomial family taken to be 1)\n",
       "\n",
       "    Null deviance: 584.36  on 504  degrees of freedom\n",
       "Residual deviance: 398.85  on 501  degrees of freedom\n",
       "AIC: 406.85\n",
       "\n",
       "Number of Fisher Scoring iterations: 5\n"
      ]
     },
     "metadata": {},
     "output_type": "display_data"
    },
    {
     "data": {
      "text/plain": [
       "\n",
       "Call:\n",
       "glm(formula = PCR ~ ., family = binomial(link = \"logit\"), data = tmp_data)\n",
       "\n",
       "Coefficients:\n",
       "            Estimate Std. Error z value Pr(>|z|)    \n",
       "(Intercept)   2.9862     0.4563   6.545 5.95e-11 ***\n",
       "HR           -1.5554     0.2685  -5.792 6.94e-09 ***\n",
       "HER2          1.6984     0.2620   6.483 9.00e-11 ***\n",
       "ITHscore     -6.0766     0.6341  -9.583  < 2e-16 ***\n",
       "---\n",
       "Signif. codes:  0 '***' 0.001 '**' 0.01 '*' 0.05 '.' 0.1 ' ' 1\n",
       "\n",
       "(Dispersion parameter for binomial family taken to be 1)\n",
       "\n",
       "    Null deviance: 584.36  on 504  degrees of freedom\n",
       "Residual deviance: 398.85  on 501  degrees of freedom\n",
       "AIC: 406.85\n",
       "\n",
       "Number of Fisher Scoring iterations: 5\n"
      ]
     },
     "metadata": {},
     "output_type": "display_data"
    },
    {
     "name": "stderr",
     "output_type": "stream",
     "text": [
      "Waiting for profiling to be done...\n",
      "\n"
     ]
    }
   ],
   "source": [
    "data_train <- read_excel(\"E:/0_pro/train.xlsx\")\n",
    "\n",
    "candidates =c(\"HR\",\"HER2\",\"ITHscore\")\n",
    "\n",
    "tmp_data = data_train[c('PCR', candidates)]\n",
    "full <- glm(PCR ~ ., data = tmp_data, family = binomial(link = \"logit\"))\n",
    "step_model <- stepAIC(full, direction = 'backward', trace = 1)\n",
    "step_model <- glm(formula(step_model), data = tmp_data, family = binomial(link = \"logit\"))\n",
    "\n",
    "step_model <- glm(full, data = tmp_data, family = binomial(link = \"logit\"))\n",
    "summary(step_model)\n",
    "summary(full)\n",
    "\n",
    "coef_estimates <- coef(step_model)\n",
    "or_values <- exp(coef_estimates)\n",
    "\n",
    "ci_values <- exp(confint(step_model))\n",
    "\n"
   ]
  },
  {
   "cell_type": "code",
   "execution_count": null,
   "id": "90fdcdd3",
   "metadata": {},
   "outputs": [],
   "source": []
  }
 ],
 "metadata": {
  "kernelspec": {
   "display_name": "R 4.3.1",
   "language": "R",
   "name": "ir431"
  },
  "language_info": {
   "codemirror_mode": "r",
   "file_extension": ".r",
   "mimetype": "text/x-r-source",
   "name": "R",
   "pygments_lexer": "r",
   "version": "4.3.1"
  }
 },
 "nbformat": 4,
 "nbformat_minor": 5
}
